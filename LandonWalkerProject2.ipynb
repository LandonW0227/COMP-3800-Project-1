{
  "nbformat": 4,
  "nbformat_minor": 0,
  "metadata": {
    "colab": {
      "provenance": [],
      "authorship_tag": "ABX9TyOkeZHVBCOdvxF/wUlKtI/4",
      "include_colab_link": true
    },
    "kernelspec": {
      "name": "python3",
      "display_name": "Python 3"
    },
    "language_info": {
      "name": "python"
    }
  },
  "cells": [
    {
      "cell_type": "markdown",
      "metadata": {
        "id": "view-in-github",
        "colab_type": "text"
      },
      "source": [
        "<a href=\"https://colab.research.google.com/github/LandonW0227/COMP-3800-Project-1/blob/main/LandonWalkerProject2.ipynb\" target=\"_parent\"><img src=\"https://colab.research.google.com/assets/colab-badge.svg\" alt=\"Open In Colab\"/></a>"
      ]
    },
    {
      "cell_type": "markdown",
      "source": [
        "Landon Walker Project 2 - Breast Cancer Tumor Analysis\n",
        "\n",
        "GitHub Repository Link: https://github.com/LandonW0227/COMP-3800-Project-1\n",
        "\n",
        "Link to GitHub profile: https://github.com/LandonW0227\n",
        "\n",
        "Dataset: https://www.kaggle.com/datasets/mariolisboa/breast-cancer-wisconsin-original-data-set\n",
        "\n",
        "Description: This dataset contains information from a study done in the state of Wisconsin on the attributes of a various tumors within patients that have the potential to be breast cancer. It has a series of variables, each of which is a piece of information about a tumor that was found inside an individual. These variables can be analyzed to determine which is the most effective at predicting whether a tumor is malignant or not.\n",
        "\n",
        "Target Variable: Classes (Benign or Malignant)\n",
        "\n",
        "Prediction Goal: Find the variable that best predicts when an individual is diagnosed correctly with a malignant tumor."
      ],
      "metadata": {
        "id": "LVd8WjvgrOI5"
      }
    },
    {
      "cell_type": "code",
      "execution_count": 87,
      "metadata": {
        "colab": {
          "base_uri": "https://localhost:8080/",
          "height": 74
        },
        "id": "WLuPANWBrKj1",
        "outputId": "43a25c85-3d1a-4449-f8c7-62c19080fc57"
      },
      "outputs": [
        {
          "output_type": "display_data",
          "data": {
            "text/plain": [
              "<IPython.core.display.HTML object>"
            ],
            "text/html": [
              "\n",
              "     <input type=\"file\" id=\"files-1b0f9505-694d-4086-ab02-9a51002b0aa7\" name=\"files[]\" multiple disabled\n",
              "        style=\"border:none\" />\n",
              "     <output id=\"result-1b0f9505-694d-4086-ab02-9a51002b0aa7\">\n",
              "      Upload widget is only available when the cell has been executed in the\n",
              "      current browser session. Please rerun this cell to enable.\n",
              "      </output>\n",
              "      <script>// Copyright 2017 Google LLC\n",
              "//\n",
              "// Licensed under the Apache License, Version 2.0 (the \"License\");\n",
              "// you may not use this file except in compliance with the License.\n",
              "// You may obtain a copy of the License at\n",
              "//\n",
              "//      http://www.apache.org/licenses/LICENSE-2.0\n",
              "//\n",
              "// Unless required by applicable law or agreed to in writing, software\n",
              "// distributed under the License is distributed on an \"AS IS\" BASIS,\n",
              "// WITHOUT WARRANTIES OR CONDITIONS OF ANY KIND, either express or implied.\n",
              "// See the License for the specific language governing permissions and\n",
              "// limitations under the License.\n",
              "\n",
              "/**\n",
              " * @fileoverview Helpers for google.colab Python module.\n",
              " */\n",
              "(function(scope) {\n",
              "function span(text, styleAttributes = {}) {\n",
              "  const element = document.createElement('span');\n",
              "  element.textContent = text;\n",
              "  for (const key of Object.keys(styleAttributes)) {\n",
              "    element.style[key] = styleAttributes[key];\n",
              "  }\n",
              "  return element;\n",
              "}\n",
              "\n",
              "// Max number of bytes which will be uploaded at a time.\n",
              "const MAX_PAYLOAD_SIZE = 100 * 1024;\n",
              "\n",
              "function _uploadFiles(inputId, outputId) {\n",
              "  const steps = uploadFilesStep(inputId, outputId);\n",
              "  const outputElement = document.getElementById(outputId);\n",
              "  // Cache steps on the outputElement to make it available for the next call\n",
              "  // to uploadFilesContinue from Python.\n",
              "  outputElement.steps = steps;\n",
              "\n",
              "  return _uploadFilesContinue(outputId);\n",
              "}\n",
              "\n",
              "// This is roughly an async generator (not supported in the browser yet),\n",
              "// where there are multiple asynchronous steps and the Python side is going\n",
              "// to poll for completion of each step.\n",
              "// This uses a Promise to block the python side on completion of each step,\n",
              "// then passes the result of the previous step as the input to the next step.\n",
              "function _uploadFilesContinue(outputId) {\n",
              "  const outputElement = document.getElementById(outputId);\n",
              "  const steps = outputElement.steps;\n",
              "\n",
              "  const next = steps.next(outputElement.lastPromiseValue);\n",
              "  return Promise.resolve(next.value.promise).then((value) => {\n",
              "    // Cache the last promise value to make it available to the next\n",
              "    // step of the generator.\n",
              "    outputElement.lastPromiseValue = value;\n",
              "    return next.value.response;\n",
              "  });\n",
              "}\n",
              "\n",
              "/**\n",
              " * Generator function which is called between each async step of the upload\n",
              " * process.\n",
              " * @param {string} inputId Element ID of the input file picker element.\n",
              " * @param {string} outputId Element ID of the output display.\n",
              " * @return {!Iterable<!Object>} Iterable of next steps.\n",
              " */\n",
              "function* uploadFilesStep(inputId, outputId) {\n",
              "  const inputElement = document.getElementById(inputId);\n",
              "  inputElement.disabled = false;\n",
              "\n",
              "  const outputElement = document.getElementById(outputId);\n",
              "  outputElement.innerHTML = '';\n",
              "\n",
              "  const pickedPromise = new Promise((resolve) => {\n",
              "    inputElement.addEventListener('change', (e) => {\n",
              "      resolve(e.target.files);\n",
              "    });\n",
              "  });\n",
              "\n",
              "  const cancel = document.createElement('button');\n",
              "  inputElement.parentElement.appendChild(cancel);\n",
              "  cancel.textContent = 'Cancel upload';\n",
              "  const cancelPromise = new Promise((resolve) => {\n",
              "    cancel.onclick = () => {\n",
              "      resolve(null);\n",
              "    };\n",
              "  });\n",
              "\n",
              "  // Wait for the user to pick the files.\n",
              "  const files = yield {\n",
              "    promise: Promise.race([pickedPromise, cancelPromise]),\n",
              "    response: {\n",
              "      action: 'starting',\n",
              "    }\n",
              "  };\n",
              "\n",
              "  cancel.remove();\n",
              "\n",
              "  // Disable the input element since further picks are not allowed.\n",
              "  inputElement.disabled = true;\n",
              "\n",
              "  if (!files) {\n",
              "    return {\n",
              "      response: {\n",
              "        action: 'complete',\n",
              "      }\n",
              "    };\n",
              "  }\n",
              "\n",
              "  for (const file of files) {\n",
              "    const li = document.createElement('li');\n",
              "    li.append(span(file.name, {fontWeight: 'bold'}));\n",
              "    li.append(span(\n",
              "        `(${file.type || 'n/a'}) - ${file.size} bytes, ` +\n",
              "        `last modified: ${\n",
              "            file.lastModifiedDate ? file.lastModifiedDate.toLocaleDateString() :\n",
              "                                    'n/a'} - `));\n",
              "    const percent = span('0% done');\n",
              "    li.appendChild(percent);\n",
              "\n",
              "    outputElement.appendChild(li);\n",
              "\n",
              "    const fileDataPromise = new Promise((resolve) => {\n",
              "      const reader = new FileReader();\n",
              "      reader.onload = (e) => {\n",
              "        resolve(e.target.result);\n",
              "      };\n",
              "      reader.readAsArrayBuffer(file);\n",
              "    });\n",
              "    // Wait for the data to be ready.\n",
              "    let fileData = yield {\n",
              "      promise: fileDataPromise,\n",
              "      response: {\n",
              "        action: 'continue',\n",
              "      }\n",
              "    };\n",
              "\n",
              "    // Use a chunked sending to avoid message size limits. See b/62115660.\n",
              "    let position = 0;\n",
              "    do {\n",
              "      const length = Math.min(fileData.byteLength - position, MAX_PAYLOAD_SIZE);\n",
              "      const chunk = new Uint8Array(fileData, position, length);\n",
              "      position += length;\n",
              "\n",
              "      const base64 = btoa(String.fromCharCode.apply(null, chunk));\n",
              "      yield {\n",
              "        response: {\n",
              "          action: 'append',\n",
              "          file: file.name,\n",
              "          data: base64,\n",
              "        },\n",
              "      };\n",
              "\n",
              "      let percentDone = fileData.byteLength === 0 ?\n",
              "          100 :\n",
              "          Math.round((position / fileData.byteLength) * 100);\n",
              "      percent.textContent = `${percentDone}% done`;\n",
              "\n",
              "    } while (position < fileData.byteLength);\n",
              "  }\n",
              "\n",
              "  // All done.\n",
              "  yield {\n",
              "    response: {\n",
              "      action: 'complete',\n",
              "    }\n",
              "  };\n",
              "}\n",
              "\n",
              "scope.google = scope.google || {};\n",
              "scope.google.colab = scope.google.colab || {};\n",
              "scope.google.colab._files = {\n",
              "  _uploadFiles,\n",
              "  _uploadFilesContinue,\n",
              "};\n",
              "})(self);\n",
              "</script> "
            ]
          },
          "metadata": {}
        },
        {
          "output_type": "stream",
          "name": "stdout",
          "text": [
            "Saving Breast_Cancer_Wisconsin_Data.csv to Breast_Cancer_Wisconsin_Data (5).csv\n"
          ]
        }
      ],
      "source": [
        "#Uploading file into Google Colab along with needed libraries\n",
        "%matplotlib inline\n",
        "import numpy as np\n",
        "import pandas as pd\n",
        "import seaborn as sns\n",
        "from google.colab import files\n",
        "from sklearn import svm, datasets\n",
        "uploaded = files.upload()"
      ]
    },
    {
      "cell_type": "code",
      "source": [
        "#Importing matplotlib and reading the CSV file to ensure that it was imported correctly\n",
        "from matplotlib import pyplot as plt\n",
        "df = pd.read_csv('Breast_Cancer_Wisconsin_Data.csv')\n",
        "print(df.head(10))"
      ],
      "metadata": {
        "colab": {
          "base_uri": "https://localhost:8080/"
        },
        "id": "5piwwtNeApHV",
        "outputId": "d4c26e0f-a786-495f-c4c9-7b228f7d63b8"
      },
      "execution_count": 88,
      "outputs": [
        {
          "output_type": "stream",
          "name": "stdout",
          "text": [
            "   Sample code number  Clump Thickness  Uniformity of Cell Size  \\\n",
            "0             1000025                5                        1   \n",
            "1             1002945                5                        4   \n",
            "2             1015425                3                        1   \n",
            "3             1016277                6                        8   \n",
            "4             1017023                4                        1   \n",
            "5             1017122                8                       10   \n",
            "6             1018099                1                        1   \n",
            "7             1018561                2                        1   \n",
            "8             1033078                2                        1   \n",
            "9             1033078                4                        2   \n",
            "\n",
            "   Uniformity of Cell Shape  Marginal Adhesion  Single Epithelial Cell Size  \\\n",
            "0                         1                  1                            2   \n",
            "1                         4                  5                            7   \n",
            "2                         1                  1                            2   \n",
            "3                         8                  1                            3   \n",
            "4                         1                  3                            2   \n",
            "5                        10                  8                            7   \n",
            "6                         1                  1                            2   \n",
            "7                         2                  1                            2   \n",
            "8                         1                  1                            2   \n",
            "9                         1                  1                            2   \n",
            "\n",
            "  Bare Nuclei  Bland Chromatin  Normal Nucleoli  Mitoses  Class  \n",
            "0           1                3                1        1      2  \n",
            "1          10                3                2        1      2  \n",
            "2           2                3                1        1      2  \n",
            "3           4                3                7        1      2  \n",
            "4           1                3                1        1      2  \n",
            "5          10                9                7        1      4  \n",
            "6          10                3                1        1      2  \n",
            "7           1                3                1        1      2  \n",
            "8           1                1                1        5      2  \n",
            "9           1                2                1        1      2  \n"
          ]
        }
      ]
    },
    {
      "cell_type": "code",
      "source": [
        "#Overview of the dataset\n",
        "print(\"shape\", df.shape)\n",
        "print(\"Column Headers\\n\", df.columns.tolist())\n",
        "print(df.dtypes)\n",
        "print(df.head(10))\n",
        "print(df.tail(10))\n",
        "print(df.info)"
      ],
      "metadata": {
        "colab": {
          "base_uri": "https://localhost:8080/"
        },
        "id": "sZ9omMOWBnek",
        "outputId": "e97a4bdf-80ff-48c3-dcef-de720f4a8eb5"
      },
      "execution_count": 89,
      "outputs": [
        {
          "output_type": "stream",
          "name": "stdout",
          "text": [
            "shape (699, 11)\n",
            "Column Headers\n",
            " ['Sample code number', 'Clump Thickness', 'Uniformity of Cell Size', 'Uniformity of Cell Shape', 'Marginal Adhesion', 'Single Epithelial Cell Size', 'Bare Nuclei', 'Bland Chromatin', 'Normal Nucleoli', 'Mitoses', 'Class']\n",
            "Sample code number              int64\n",
            "Clump Thickness                 int64\n",
            "Uniformity of Cell Size         int64\n",
            "Uniformity of Cell Shape        int64\n",
            "Marginal Adhesion               int64\n",
            "Single Epithelial Cell Size     int64\n",
            "Bare Nuclei                    object\n",
            "Bland Chromatin                 int64\n",
            "Normal Nucleoli                 int64\n",
            "Mitoses                         int64\n",
            "Class                           int64\n",
            "dtype: object\n",
            "   Sample code number  Clump Thickness  Uniformity of Cell Size  \\\n",
            "0             1000025                5                        1   \n",
            "1             1002945                5                        4   \n",
            "2             1015425                3                        1   \n",
            "3             1016277                6                        8   \n",
            "4             1017023                4                        1   \n",
            "5             1017122                8                       10   \n",
            "6             1018099                1                        1   \n",
            "7             1018561                2                        1   \n",
            "8             1033078                2                        1   \n",
            "9             1033078                4                        2   \n",
            "\n",
            "   Uniformity of Cell Shape  Marginal Adhesion  Single Epithelial Cell Size  \\\n",
            "0                         1                  1                            2   \n",
            "1                         4                  5                            7   \n",
            "2                         1                  1                            2   \n",
            "3                         8                  1                            3   \n",
            "4                         1                  3                            2   \n",
            "5                        10                  8                            7   \n",
            "6                         1                  1                            2   \n",
            "7                         2                  1                            2   \n",
            "8                         1                  1                            2   \n",
            "9                         1                  1                            2   \n",
            "\n",
            "  Bare Nuclei  Bland Chromatin  Normal Nucleoli  Mitoses  Class  \n",
            "0           1                3                1        1      2  \n",
            "1          10                3                2        1      2  \n",
            "2           2                3                1        1      2  \n",
            "3           4                3                7        1      2  \n",
            "4           1                3                1        1      2  \n",
            "5          10                9                7        1      4  \n",
            "6          10                3                1        1      2  \n",
            "7           1                3                1        1      2  \n",
            "8           1                1                1        5      2  \n",
            "9           1                2                1        1      2  \n",
            "     Sample code number  Clump Thickness  Uniformity of Cell Size  \\\n",
            "689              654546                1                        1   \n",
            "690              654546                1                        1   \n",
            "691              695091                5                       10   \n",
            "692              714039                3                        1   \n",
            "693              763235                3                        1   \n",
            "694              776715                3                        1   \n",
            "695              841769                2                        1   \n",
            "696              888820                5                       10   \n",
            "697              897471                4                        8   \n",
            "698              897471                4                        8   \n",
            "\n",
            "     Uniformity of Cell Shape  Marginal Adhesion  Single Epithelial Cell Size  \\\n",
            "689                         1                  1                            2   \n",
            "690                         1                  3                            2   \n",
            "691                        10                  5                            4   \n",
            "692                         1                  1                            2   \n",
            "693                         1                  1                            2   \n",
            "694                         1                  1                            3   \n",
            "695                         1                  1                            2   \n",
            "696                        10                  3                            7   \n",
            "697                         6                  4                            3   \n",
            "698                         8                  5                            4   \n",
            "\n",
            "    Bare Nuclei  Bland Chromatin  Normal Nucleoli  Mitoses  Class  \n",
            "689           1                1                1        8      2  \n",
            "690           1                1                1        1      2  \n",
            "691           5                4                4        1      4  \n",
            "692           1                1                1        1      2  \n",
            "693           1                2                1        2      2  \n",
            "694           2                1                1        1      2  \n",
            "695           1                1                1        1      2  \n",
            "696           3                8               10        2      4  \n",
            "697           4               10                6        1      4  \n",
            "698           5               10                4        1      4  \n",
            "<bound method DataFrame.info of      Sample code number  Clump Thickness  Uniformity of Cell Size  \\\n",
            "0               1000025                5                        1   \n",
            "1               1002945                5                        4   \n",
            "2               1015425                3                        1   \n",
            "3               1016277                6                        8   \n",
            "4               1017023                4                        1   \n",
            "..                  ...              ...                      ...   \n",
            "694              776715                3                        1   \n",
            "695              841769                2                        1   \n",
            "696              888820                5                       10   \n",
            "697              897471                4                        8   \n",
            "698              897471                4                        8   \n",
            "\n",
            "     Uniformity of Cell Shape  Marginal Adhesion  Single Epithelial Cell Size  \\\n",
            "0                           1                  1                            2   \n",
            "1                           4                  5                            7   \n",
            "2                           1                  1                            2   \n",
            "3                           8                  1                            3   \n",
            "4                           1                  3                            2   \n",
            "..                        ...                ...                          ...   \n",
            "694                         1                  1                            3   \n",
            "695                         1                  1                            2   \n",
            "696                        10                  3                            7   \n",
            "697                         6                  4                            3   \n",
            "698                         8                  5                            4   \n",
            "\n",
            "    Bare Nuclei  Bland Chromatin  Normal Nucleoli  Mitoses  Class  \n",
            "0             1                3                1        1      2  \n",
            "1            10                3                2        1      2  \n",
            "2             2                3                1        1      2  \n",
            "3             4                3                7        1      2  \n",
            "4             1                3                1        1      2  \n",
            "..          ...              ...              ...      ...    ...  \n",
            "694           2                1                1        1      2  \n",
            "695           1                1                1        1      2  \n",
            "696           3                8               10        2      4  \n",
            "697           4               10                6        1      4  \n",
            "698           5               10                4        1      4  \n",
            "\n",
            "[699 rows x 11 columns]>\n"
          ]
        }
      ]
    },
    {
      "cell_type": "code",
      "source": [
        "#Dropping the 'Sample code number' and 'Bare Nuclei' columns\n",
        "df.drop([\"Sample code number\"], inplace=True, axis=1)\n",
        "df.drop([\"Bare Nuclei\"], inplace=True, axis=1)\n",
        "print(df.shape)\n",
        "#Checking for null values\n",
        "print(df.isnull().sum())\n",
        "#Checking for duplicates\n",
        "print(df.duplicated().sum())\n",
        "#Duplicates are ok in this case"
      ],
      "metadata": {
        "colab": {
          "base_uri": "https://localhost:8080/"
        },
        "id": "CGjqxakUBmyM",
        "outputId": "20d7c786-8120-45a3-a755-73a4b55c564a"
      },
      "execution_count": 90,
      "outputs": [
        {
          "output_type": "stream",
          "name": "stdout",
          "text": [
            "(699, 9)\n",
            "Clump Thickness                0\n",
            "Uniformity of Cell Size        0\n",
            "Uniformity of Cell Shape       0\n",
            "Marginal Adhesion              0\n",
            "Single Epithelial Cell Size    0\n",
            "Bland Chromatin                0\n",
            "Normal Nucleoli                0\n",
            "Mitoses                        0\n",
            "Class                          0\n",
            "dtype: int64\n",
            "258\n"
          ]
        }
      ]
    },
    {
      "cell_type": "markdown",
      "source": [
        "Explanation:\n",
        "\n",
        "This is basic data cleaning. Unneeded columns were dropped, and null values were checked for. Also, duplicated values were checked for, but they can be allowed in this case because of the specifics of the dataset."
      ],
      "metadata": {
        "id": "B8v5k6iZjPm2"
      }
    },
    {
      "cell_type": "code",
      "source": [
        "#Removing rows with null values\n",
        "df.dropna(axis=0, inplace=True)\n",
        "print(df.isnull().sum())\n",
        "#Changing the Target variable numbers from [2,4] to [0,1]\n",
        "df.loc[df['Class'] == 2, 'Class'] = 0\n",
        "df.loc[df['Class'] == 4, 'Class'] = 1\n",
        "print(df.head(10))"
      ],
      "metadata": {
        "colab": {
          "base_uri": "https://localhost:8080/"
        },
        "id": "SkKkta-KJVSt",
        "outputId": "3fc9ed7d-5d5e-4cda-c8e4-d79da5dd05ed"
      },
      "execution_count": 91,
      "outputs": [
        {
          "output_type": "stream",
          "name": "stdout",
          "text": [
            "Clump Thickness                0\n",
            "Uniformity of Cell Size        0\n",
            "Uniformity of Cell Shape       0\n",
            "Marginal Adhesion              0\n",
            "Single Epithelial Cell Size    0\n",
            "Bland Chromatin                0\n",
            "Normal Nucleoli                0\n",
            "Mitoses                        0\n",
            "Class                          0\n",
            "dtype: int64\n",
            "   Clump Thickness  Uniformity of Cell Size  Uniformity of Cell Shape  \\\n",
            "0                5                        1                         1   \n",
            "1                5                        4                         4   \n",
            "2                3                        1                         1   \n",
            "3                6                        8                         8   \n",
            "4                4                        1                         1   \n",
            "5                8                       10                        10   \n",
            "6                1                        1                         1   \n",
            "7                2                        1                         2   \n",
            "8                2                        1                         1   \n",
            "9                4                        2                         1   \n",
            "\n",
            "   Marginal Adhesion  Single Epithelial Cell Size  Bland Chromatin  \\\n",
            "0                  1                            2                3   \n",
            "1                  5                            7                3   \n",
            "2                  1                            2                3   \n",
            "3                  1                            3                3   \n",
            "4                  3                            2                3   \n",
            "5                  8                            7                9   \n",
            "6                  1                            2                3   \n",
            "7                  1                            2                3   \n",
            "8                  1                            2                1   \n",
            "9                  1                            2                2   \n",
            "\n",
            "   Normal Nucleoli  Mitoses  Class  \n",
            "0                1        1      0  \n",
            "1                2        1      0  \n",
            "2                1        1      0  \n",
            "3                7        1      0  \n",
            "4                1        1      0  \n",
            "5                7        1      1  \n",
            "6                1        1      0  \n",
            "7                1        1      0  \n",
            "8                1        5      0  \n",
            "9                1        1      0  \n"
          ]
        }
      ]
    },
    {
      "cell_type": "code",
      "source": [
        "#Importing more needed libraries\n",
        "from sklearn.model_selection import train_test_split\n",
        "from sklearn.linear_model import LogisticRegression\n",
        "from sklearn.metrics import log_loss, roc_auc_score, recall_score, precision_score, average_precision_score, f1_score, classification_report, accuracy_score\n",
        "#Running value_counts on all of the columns in the data set\n",
        "for column in df:\n",
        "  print(df[column].value_counts())"
      ],
      "metadata": {
        "colab": {
          "base_uri": "https://localhost:8080/"
        },
        "id": "yuNValI_FuQg",
        "outputId": "20574b66-7455-4096-d70f-7161180db144"
      },
      "execution_count": 92,
      "outputs": [
        {
          "output_type": "stream",
          "name": "stdout",
          "text": [
            "Clump Thickness\n",
            "1     145\n",
            "5     130\n",
            "3     108\n",
            "4      80\n",
            "10     69\n",
            "2      50\n",
            "8      46\n",
            "6      34\n",
            "7      23\n",
            "9      14\n",
            "Name: count, dtype: int64\n",
            "Uniformity of Cell Size\n",
            "1     384\n",
            "10     67\n",
            "3      52\n",
            "2      45\n",
            "4      40\n",
            "5      30\n",
            "8      29\n",
            "6      27\n",
            "7      19\n",
            "9       6\n",
            "Name: count, dtype: int64\n",
            "Uniformity of Cell Shape\n",
            "1     353\n",
            "2      59\n",
            "10     58\n",
            "3      56\n",
            "4      44\n",
            "5      34\n",
            "6      30\n",
            "7      30\n",
            "8      28\n",
            "9       7\n",
            "Name: count, dtype: int64\n",
            "Marginal Adhesion\n",
            "1     407\n",
            "3      58\n",
            "2      58\n",
            "10     55\n",
            "4      33\n",
            "8      25\n",
            "5      23\n",
            "6      22\n",
            "7      13\n",
            "9       5\n",
            "Name: count, dtype: int64\n",
            "Single Epithelial Cell Size\n",
            "2     386\n",
            "3      72\n",
            "4      48\n",
            "1      47\n",
            "6      41\n",
            "5      39\n",
            "10     31\n",
            "8      21\n",
            "7      12\n",
            "9       2\n",
            "Name: count, dtype: int64\n",
            "Bland Chromatin\n",
            "2     166\n",
            "3     165\n",
            "1     152\n",
            "7      73\n",
            "4      40\n",
            "5      34\n",
            "8      28\n",
            "10     20\n",
            "9      11\n",
            "6      10\n",
            "Name: count, dtype: int64\n",
            "Normal Nucleoli\n",
            "1     443\n",
            "10     61\n",
            "3      44\n",
            "2      36\n",
            "8      24\n",
            "6      22\n",
            "5      19\n",
            "4      18\n",
            "7      16\n",
            "9      16\n",
            "Name: count, dtype: int64\n",
            "Mitoses\n",
            "1     579\n",
            "2      35\n",
            "3      33\n",
            "10     14\n",
            "4      12\n",
            "7       9\n",
            "8       8\n",
            "5       6\n",
            "6       3\n",
            "Name: count, dtype: int64\n",
            "Class\n",
            "0    458\n",
            "1    241\n",
            "Name: count, dtype: int64\n"
          ]
        }
      ]
    },
    {
      "cell_type": "markdown",
      "source": [
        "Explanation:\n",
        "\n",
        "According to the column value counts, the target variable is not balanced. Because of this, the data will need to be balanced before any modeling is done."
      ],
      "metadata": {
        "id": "IQ4jWEjdi9p_"
      }
    },
    {
      "cell_type": "code",
      "source": [
        "#Creating boxplots for all numerical features\n",
        "num_list = ['Clump Thickness', 'Uniformity of Cell Size', 'Uniformity of Cell Shape', 'Marginal Adhesion', 'Single Epithelial Cell Size', 'Bland Chromatin', 'Normal Nucleoli', 'Mitoses']\n",
        "fig = plt.figure(figsize=(10, 8))\n",
        "for i in range(len(num_list)):\n",
        "    column=num_list[i]\n",
        "    sub=fig.add_subplot(3,3,i+1)\n",
        "    sns.boxplot(x='Class',y=column, data=df)\n",
        "    sub.set_title(column)\n",
        "fig.tight_layout()"
      ],
      "metadata": {
        "colab": {
          "base_uri": "https://localhost:8080/",
          "height": 807
        },
        "id": "rfWgYqsbDj-K",
        "outputId": "9ae7ea37-07cf-4370-e5f3-841b05fd3852"
      },
      "execution_count": 93,
      "outputs": [
        {
          "output_type": "display_data",
          "data": {
            "text/plain": [
              "<Figure size 1000x800 with 8 Axes>"
            ],
            "image/png": "[encoded data removed]"
          },
          "metadata": {}
        }
      ]
    },
    {
      "cell_type": "code",
      "source": [
        "#Generating the variance scores and p-values for all numerical features\n",
        "from sklearn.feature_selection import SelectKBest, f_classif, chi2\n",
        "x = df.loc[:, ['Clump Thickness', 'Uniformity of Cell Size', 'Uniformity of Cell Shape', 'Marginal Adhesion', 'Single Epithelial Cell Size', 'Bland Chromatin', 'Normal Nucleoli', 'Mitoses']]\n",
        "y = df.loc[:, 'Class']\n",
        "fs = SelectKBest(score_func=f_classif, k='all')\n",
        "bestFeatures = fs.fit(x, y)\n",
        "np.set_printoptions(suppress = True)\n",
        "print(bestFeatures.scores_)    # Prints out the scores\n",
        "print(bestFeatures.pvalues_)  # Prints out the p-values\n",
        "print(df.corr()) #Correlation coefficients"
      ],
      "metadata": {
        "colab": {
          "base_uri": "https://localhost:8080/"
        },
        "id": "nUGG9aOnErQe",
        "outputId": "61ae4cec-368f-40c6-d11c-3a45b58b40d2"
      },
      "execution_count": 94,
      "outputs": [
        {
          "output_type": "stream",
          "name": "stdout",
          "text": [
            "[ 733.20697841 1408.52721279 1419.30553012  657.79369959  608.71955539\n",
            "  933.28729668  717.62804135  152.04023895]\n",
            "[0. 0. 0. 0. 0. 0. 0. 0.]\n",
            "                             Clump Thickness  Uniformity of Cell Size  \\\n",
            "Clump Thickness                     1.000000                 0.644913   \n",
            "Uniformity of Cell Size             0.644913                 1.000000   \n",
            "Uniformity of Cell Shape            0.654589                 0.906882   \n",
            "Marginal Adhesion                   0.486356                 0.705582   \n",
            "Single Epithelial Cell Size         0.521816                 0.751799   \n",
            "Bland Chromatin                     0.558428                 0.755721   \n",
            "Normal Nucleoli                     0.535835                 0.722865   \n",
            "Mitoses                             0.350034                 0.458693   \n",
            "Class                               0.716001                 0.817904   \n",
            "\n",
            "                             Uniformity of Cell Shape  Marginal Adhesion  \\\n",
            "Clump Thickness                              0.654589           0.486356   \n",
            "Uniformity of Cell Size                      0.906882           0.705582   \n",
            "Uniformity of Cell Shape                     1.000000           0.683079   \n",
            "Marginal Adhesion                            0.683079           1.000000   \n",
            "Single Epithelial Cell Size                  0.719668           0.599599   \n",
            "Bland Chromatin                              0.735948           0.666715   \n",
            "Normal Nucleoli                              0.719446           0.603352   \n",
            "Mitoses                                      0.438911           0.417633   \n",
            "Class                                        0.818934           0.696800   \n",
            "\n",
            "                             Single Epithelial Cell Size  Bland Chromatin  \\\n",
            "Clump Thickness                                 0.521816         0.558428   \n",
            "Uniformity of Cell Size                         0.751799         0.755721   \n",
            "Uniformity of Cell Shape                        0.719668         0.735948   \n",
            "Marginal Adhesion                               0.599599         0.666715   \n",
            "Single Epithelial Cell Size                     1.000000         0.616102   \n",
            "Bland Chromatin                                 0.616102         1.000000   \n",
            "Normal Nucleoli                                 0.628881         0.665878   \n",
            "Mitoses                                         0.479101         0.344169   \n",
            "Class                                           0.682785         0.756616   \n",
            "\n",
            "                             Normal Nucleoli   Mitoses     Class  \n",
            "Clump Thickness                     0.535835  0.350034  0.716001  \n",
            "Uniformity of Cell Size             0.722865  0.458693  0.817904  \n",
            "Uniformity of Cell Shape            0.719446  0.438911  0.818934  \n",
            "Marginal Adhesion                   0.603352  0.417633  0.696800  \n",
            "Single Epithelial Cell Size         0.628881  0.479101  0.682785  \n",
            "Bland Chromatin                     0.665878  0.344169  0.756616  \n",
            "Normal Nucleoli                     1.000000  0.428336  0.712244  \n",
            "Mitoses                             0.428336  1.000000  0.423170  \n",
            "Class                               0.712244  0.423170  1.000000  \n"
          ]
        }
      ]
    },
    {
      "cell_type": "markdown",
      "source": [
        "Explanation:\n",
        "\n",
        "The ANOVA (Analysis of Variance) test is used to find variables that have little variance between the classes for the target. These variables are irrelevant to the target variable and should be removed from the dataset before any modeling is done. The f-score is used to determine if there are significant differences between the means of groups. A larger f-score indicates a larger difference between the group means. The p-value determines whether the observed differences in means are statistically significant. A smaller p-value indicates that the observed f-value is less likely to occur under the null hypothesis. In this case, all of the features have p-value of 0.0, and because of this, most of the f-scores are particularly high as well."
      ],
      "metadata": {
        "id": "0JkthYYpvWYe"
      }
    },
    {
      "cell_type": "code",
      "source": [
        "#Dropping the 'Mitoses' column\n",
        "df.drop([\"Mitoses\"], inplace=True, axis=1)\n",
        "print(df.shape)"
      ],
      "metadata": {
        "colab": {
          "base_uri": "https://localhost:8080/"
        },
        "id": "Eo8hzloVUF4d",
        "outputId": "060d06e3-6de8-4059-b775-b4e00c1b8bea"
      },
      "execution_count": 95,
      "outputs": [
        {
          "output_type": "stream",
          "name": "stdout",
          "text": [
            "(699, 8)\n"
          ]
        }
      ]
    },
    {
      "cell_type": "markdown",
      "source": [
        "Explanation:\n",
        "\n",
        "The \"Mitoses\" column had the smallest F-Score by a significant margin, so it does not need to be used in any modeling that is done."
      ],
      "metadata": {
        "id": "Ic2aUXwDimDO"
      }
    },
    {
      "cell_type": "code",
      "source": [
        "#Splitting the data into 80% training and 20% testing\n",
        "x = df.loc[:, df.columns!='Class']\n",
        "y = df['Class']\n",
        "x_train, x_test, y_train, y_test = train_test_split(x, y, test_size=0.2, random_state=0, stratify=y)\n",
        "print(x_train.shape, y_train.shape, x_test.shape, y_test.shape)"
      ],
      "metadata": {
        "colab": {
          "base_uri": "https://localhost:8080/"
        },
        "id": "Po8WK-digdSV",
        "outputId": "8b63b2f5-7642-4c60-ae6f-9d2ce92eb729"
      },
      "execution_count": 96,
      "outputs": [
        {
          "output_type": "stream",
          "name": "stdout",
          "text": [
            "(559, 7) (559,) (140, 7) (140,)\n"
          ]
        }
      ]
    },
    {
      "cell_type": "markdown",
      "source": [
        "Explanation:\n",
        "\n",
        "Splitting the data in this case was necessary to avoid overfitting. This allows the model to evaluate the dataset more completely."
      ],
      "metadata": {
        "id": "BhL7XDfhiTiA"
      }
    },
    {
      "cell_type": "code",
      "source": [
        "#Balancing the training data using oversampling\n",
        "from imblearn.over_sampling import SMOTE\n",
        "os = SMOTE(random_state=0)\n",
        "#Fit predictor and target variable\n",
        "oversampled_x,oversampled_y=os.fit_resample(x_train, y_train)\n",
        "print(x_train.shape)\n",
        "print(oversampled_x.shape)"
      ],
      "metadata": {
        "colab": {
          "base_uri": "https://localhost:8080/"
        },
        "id": "eeEvyERkgrs0",
        "outputId": "60079bac-87b9-4c6e-b148-160fce2c2853"
      },
      "execution_count": 97,
      "outputs": [
        {
          "output_type": "stream",
          "name": "stdout",
          "text": [
            "(559, 7)\n",
            "(732, 7)\n"
          ]
        }
      ]
    },
    {
      "cell_type": "markdown",
      "source": [
        "Explanation:\n",
        "\n",
        "The data needs to be balanced in this case because the raw data itself is slighty imbalanced. In this case, oversampling was used because one class has a significantly smaller amount of data points than the other. This is done to allow the Logistic Regression Model better represent the dataset as a whole."
      ],
      "metadata": {
        "id": "0KBoJXGphqIm"
      }
    },
    {
      "cell_type": "code",
      "source": [
        "#Building a Logistic Regression Model using the data set\n",
        "LogRegression = LogisticRegression(penalty=None, max_iter=2000)\n",
        "LogRegression.fit(oversampled_x, oversampled_y.values.ravel())\n",
        "#Evaluating the accuracy of the model\n",
        "test_pred = LogRegression.predict(x_test)\n",
        "print('Accuracy Score: ' + str(accuracy_score(y_test, test_pred)))\n",
        "print('Precision Score: ' + str(precision_score(y_test, test_pred, pos_label=1)))\n",
        "print('Recall Score: ' + str(recall_score(y_test, test_pred, pos_label=1)))\n",
        "print('F1 Score: ' + str(f1_score(y_test, test_pred, pos_label=1)))"
      ],
      "metadata": {
        "colab": {
          "base_uri": "https://localhost:8080/"
        },
        "id": "K4Xd5YQP2DLZ",
        "outputId": "316e60ec-e98c-4677-966e-371fcc65b9a6"
      },
      "execution_count": 98,
      "outputs": [
        {
          "output_type": "stream",
          "name": "stdout",
          "text": [
            "Accuracy Score: 0.9642857142857143\n",
            "Precision Score: 0.9056603773584906\n",
            "Recall Score: 1.0\n",
            "F1 Score: 0.9504950495049505\n"
          ]
        }
      ]
    },
    {
      "cell_type": "markdown",
      "source": [
        "Explanation:\n",
        "\n",
        "The data above comes from the Logistic Regression Model that was built using this dataset. The accuracy score of 0.964 is quite high for this type of model, However, it is not the best statistic to use to measure the effectiveness of the model because the model is imbalanced. In this case, the F1 Score is probably the best measure to use, and because the value is 0.950, the model can be seen as a good fit for the data. Additionally, the Precision and Recall scores are high as well, meaning that the model does predict many false negatives."
      ],
      "metadata": {
        "id": "oSy92gVjgQTx"
      }
    },
    {
      "cell_type": "code",
      "source": [
        "#Generating the Confusion Matrix of the Logistic Regression Model\n",
        "from sklearn.metrics import ConfusionMatrixDisplay\n",
        "ConfusionMatrixDisplay.from_estimator(LogRegression, x_test, y_test)"
      ],
      "metadata": {
        "colab": {
          "base_uri": "https://localhost:8080/",
          "height": 467
        },
        "id": "7fCT11jAgxPF",
        "outputId": "4c77969d-db12-4fda-c6f1-70ba5b1b3fe5"
      },
      "execution_count": 99,
      "outputs": [
        {
          "output_type": "execute_result",
          "data": {
            "text/plain": [
              "<sklearn.metrics._plot.confusion_matrix.ConfusionMatrixDisplay at 0x7a2329c5caf0>"
            ]
          },
          "metadata": {},
          "execution_count": 99
        },
        {
          "output_type": "display_data",
          "data": {
            "text/plain": [
              "<Figure size 640x480 with 2 Axes>"
            ],
            "image/png": "[encoded data removed]"
          },
          "metadata": {}
        }
      ]
    },
    {
      "cell_type": "code",
      "source": [
        "#Using MinMaxScaler for Normalization of data\n",
        "#Using two features that are the least related\n",
        "x_final = df.loc[:, ['Clump Thickness', 'Marginal Adhesion']]\n",
        "from sklearn.preprocessing import MinMaxScaler\n",
        "nor_x= MinMaxScaler()\n",
        "x_scaled= nor_x.fit_transform(x_final)"
      ],
      "metadata": {
        "id": "l9dlV0mLE_Rx"
      },
      "execution_count": 100,
      "outputs": []
    },
    {
      "cell_type": "markdown",
      "source": [
        "Explanation:\n",
        "\n",
        "The code above is used to normalize the data for the K-Nearest-Neighbor test. The \"Clump Thickness\" and \"Marginal Adhesion\" columns are used because they are the two columns that are least correlated with each other."
      ],
      "metadata": {
        "id": "mbAIK-qciibV"
      }
    },
    {
      "cell_type": "code",
      "source": [
        "#Building a KNN classifier\n",
        "from sklearn.neighbors import KNeighborsClassifier\n",
        "classifier= KNeighborsClassifier(n_neighbors=5, metric='minkowski', p=2)\n",
        "classifier.fit(x_scaled, y)\n",
        "#Making predictions for each point on the coordinate plane\n",
        "xx, x2x2 = np.meshgrid(np.arange(start = 0, stop = 1.01, step=0.01), np.arange(start = 0, stop = 1.01, step=0.01))\n",
        "Z = classifier.predict(np.c_[xx.ravel(), x2x2.ravel()])\n",
        "y_pred= classifier.predict(x_scaled)"
      ],
      "metadata": {
        "id": "3gJ9IXR6FAdV"
      },
      "execution_count": 101,
      "outputs": []
    },
    {
      "cell_type": "markdown",
      "source": [
        "Explanation:\n",
        "\n",
        "This code is building the K-Nearest-Neighbor test for the dataset with a k-value of 5."
      ],
      "metadata": {
        "id": "2fVoS3DXn66O"
      }
    },
    {
      "cell_type": "code",
      "source": [
        "#Visualizing the training result\n",
        "plt.contourf(xx, x2x2, Z.reshape(xx.shape), alpha = 0.75, cmap = plt.cm.Accent)\n",
        "#Plotting the training points\n",
        "sns.scatterplot(\n",
        "       x=x_scaled[:, 0],\n",
        "        y=x_scaled[:, 1],\n",
        "        hue=y,\n",
        "        palette=['red', 'green'],\n",
        "        alpha=1.0,\n",
        "        edgecolor=\"black\",\n",
        "    )\n",
        "plt.xlabel('Uniformity of Cell Size')\n",
        "plt.ylabel('Normal Nucleoli')\n",
        "plt.xticks(np.arange(0, 1, step=0.2))\n",
        "plt.yticks(np.arange(0, 1, step=0.2))\n",
        "plt.show()"
      ],
      "metadata": {
        "colab": {
          "base_uri": "https://localhost:8080/",
          "height": 449
        },
        "id": "gXJdoOm9FGig",
        "outputId": "72bc8205-9835-4881-ccb4-2e809099c514"
      },
      "execution_count": 102,
      "outputs": [
        {
          "output_type": "display_data",
          "data": {
            "text/plain": [
              "<Figure size 640x480 with 1 Axes>"
            ],
            "image/png": "[encoded data removed]"
          },
          "metadata": {}
        }
      ]
    },
    {
      "cell_type": "code",
      "source": [
        "#Performing Cross-Validation\n",
        "from sklearn.model_selection import train_test_split\n",
        "from sklearn.metrics import accuracy_score\n",
        "from sklearn.neighbors import KNeighborsClassifier\n",
        "from sklearn.model_selection import cross_val_score\n",
        "x_train, x_test, y_train, y_test = train_test_split(x_scaled, y, test_size=0.2, random_state=60, stratify=y)\n",
        "classifier= KNeighborsClassifier(n_neighbors=5)\n",
        "classifier.fit(x_train, y_train)\n",
        "y_predicted = classifier.predict(x_test)\n",
        "cv_scores=cross_val_score(classifier, x_scaled, y, cv=10, scoring='accuracy')\n",
        "print('Mean of Cross-Validated Scores: ' + str(cv_scores.mean()))\n",
        "print('Accuracy Score: ' + str(accuracy_score(y_test, y_predicted)))"
      ],
      "metadata": {
        "colab": {
          "base_uri": "https://localhost:8080/"
        },
        "id": "k7ngMwprFHfl",
        "outputId": "65e99d76-1a07-4fe7-d62f-d64ef8116fd2"
      },
      "execution_count": 103,
      "outputs": [
        {
          "output_type": "stream",
          "name": "stdout",
          "text": [
            "Mean of Cross-Validated Scores: 0.8984679089026916\n",
            "Accuracy Score: 0.9142857142857143\n"
          ]
        }
      ]
    },
    {
      "cell_type": "code",
      "source": [
        "#Creating a list of k-values\n",
        "k_values = []\n",
        "for i in range(1, 16):\n",
        "    if i%2 !=0:\n",
        "        k_values.append(i)\n",
        "print(k_values)"
      ],
      "metadata": {
        "colab": {
          "base_uri": "https://localhost:8080/"
        },
        "id": "fYzjkYn9FKHS",
        "outputId": "62aa504c-928e-40e3-8268-d64838c9a783"
      },
      "execution_count": 104,
      "outputs": [
        {
          "output_type": "stream",
          "name": "stdout",
          "text": [
            "[1, 3, 5, 7, 9, 11, 13, 15]\n"
          ]
        }
      ]
    },
    {
      "cell_type": "code",
      "source": [
        "#Finding the optimal k-values\n",
        "k_accuracy_scores = []\n",
        "for k in k_values:\n",
        "    knn = KNeighborsClassifier(n_neighbors=k)\n",
        "    cv_scores=cross_val_score(knn, x_scaled, y, cv=10, scoring='accuracy')\n",
        "    k_accuracy_scores.append(cv_scores.mean())\n",
        "#Using a DataFrame to save k-values vs. each accuracy score\n",
        "df_k_scores = pd.DataFrame(data = np.c_[k_values, k_accuracy_scores], columns = ['k', 'accuracy'])\n",
        "print(df_k_scores)"
      ],
      "metadata": {
        "colab": {
          "base_uri": "https://localhost:8080/"
        },
        "id": "h1QOA-KLFOIE",
        "outputId": "775321b9-cb5b-4257-d3da-6d29b14fe739"
      },
      "execution_count": 105,
      "outputs": [
        {
          "output_type": "stream",
          "name": "stdout",
          "text": [
            "      k  accuracy\n",
            "0   1.0  0.899917\n",
            "1   3.0  0.915652\n",
            "2   5.0  0.898468\n",
            "3   7.0  0.922733\n",
            "4   9.0  0.929917\n",
            "5  11.0  0.925631\n",
            "6  13.0  0.929917\n",
            "7  15.0  0.928489\n"
          ]
        }
      ]
    },
    {
      "cell_type": "code",
      "source": [
        "#Plotting the k-values and accuracy scores\n",
        "plt.plot(k_values, k_accuracy_scores)\n",
        "plt.xlabel(\"k\")\n",
        "plt.ylabel(\"Accuracy Score\")\n",
        "plt.show()"
      ],
      "metadata": {
        "colab": {
          "base_uri": "https://localhost:8080/",
          "height": 449
        },
        "id": "A0500zkZFTmK",
        "outputId": "be70551b-9d5f-4134-88fb-4362874d7665"
      },
      "execution_count": 106,
      "outputs": [
        {
          "output_type": "display_data",
          "data": {
            "text/plain": [
              "<Figure size 640x480 with 1 Axes>"
            ],
            "image/png": "[encoded data removed]"
          },
          "metadata": {}
        }
      ]
    },
    {
      "cell_type": "markdown",
      "source": [
        "Conclusion:\n",
        "\n",
        "After using both a Logistic Regression Model and a K-Nearest-Neighbor test, it is apparent that the Logistic Regression Model is better suited to be used for this particular dataset. This is mostly becaues accuracy score from the Logistic Regression Model of 0.96 is much higher than the accuracy score of 0.89 from the KNN test."
      ],
      "metadata": {
        "id": "XxJPtgy2frPI"
      }
    }
  ]
}